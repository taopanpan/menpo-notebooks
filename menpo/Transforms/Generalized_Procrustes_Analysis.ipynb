{
 "cells": [
  {
   "cell_type": "markdown",
   "metadata": {},
   "source": [
    "# Generalized Procrustes Analysis\n",
    "Generalized Procrustes Analysis is an iterative technique for optimally rigidly aligning a set of shapes. The contents of this notebook are:\n",
    "\n",
    "1. Simple example\n",
    "2. Example with faces\n",
    "\n",
    "First, let's import everything we need."
   ]
  },
  {
   "cell_type": "code",
   "execution_count": 1,
   "metadata": {
    "collapsed": false
   },
   "outputs": [],
   "source": [
    "%matplotlib inline\n",
    "from pathlib import Path\n",
    "\n",
    "from menpo.transform import GeneralizedProcrustesAnalysis\n",
    "from menpo.shape import PointCloud\n",
    "\n",
    "import numpy as np\n",
    "import matplotlib.pyplot as plt"
   ]
  },
  {
   "cell_type": "markdown",
   "metadata": {},
   "source": [
    "## 1. Simple example"
   ]
  },
  {
   "cell_type": "markdown",
   "metadata": {},
   "source": [
    "Let's make three `PointCloud` instances"
   ]
  },
  {
   "cell_type": "code",
   "execution_count": 2,
   "metadata": {
    "collapsed": false
   },
   "outputs": [],
   "source": [
    "src_1 = PointCloud(np.array([[-1.0, -1.0],\n",
    "                             [1.0, -1.0],\n",
    "                             [1.0, 1.0],\n",
    "                             [-1.0, 1.0]]))\n",
    "\n",
    "src_2 = PointCloud(np.array([[0.0, 0.0],\n",
    "                             [1.5, 0.1],\n",
    "                             [1.5, 1.5],\n",
    "                             [0.1, 1.5]]))\n",
    "\n",
    "src_3 = PointCloud(np.array([[-2.0, 0.0],\n",
    "                             [0.0, 3.0],\n",
    "                             [2.0, 0.0],\n",
    "                             [0.0, -3.0]]))"
   ]
  },
  {
   "cell_type": "code",
   "execution_count": 3,
   "metadata": {
    "collapsed": false
   },
   "outputs": [
    {
     "data": {
      "image/png": "[encoded data removed]",
      "text/plain": [
       "<matplotlib.figure.Figure at 0xa6ee390>"
      ]
     },
     "metadata": {},
     "output_type": "display_data"
    }
   ],
   "source": [
    "viewer = src_1.view(marker_face_colour='r', marker_size=80);\n",
    "src_2.view(figure_id=viewer.figure_id, marker_face_colour='g', marker_size=80);\n",
    "src_3.view(figure_id=viewer.figure_id, marker_face_colour='b', marker_size=80);\n",
    "plt.legend(['src_1', 'src_2', 'src_3']);"
   ]
  },
  {
   "cell_type": "markdown",
   "metadata": {},
   "source": [
    "`GeneralizedProcrustesAnalysis` accepts a list of `Shape` instances upon construction. This causes it to run it's iterative alignment process."
   ]
  },
  {
   "cell_type": "code",
   "execution_count": 4,
   "metadata": {
    "collapsed": false
   },
   "outputs": [],
   "source": [
    "gpa = GeneralizedProcrustesAnalysis([src_1, src_2, src_3])"
   ]
  },
  {
   "cell_type": "markdown",
   "metadata": {},
   "source": [
    "Printing the object gives you a summary of what happened"
   ]
  },
  {
   "cell_type": "code",
   "execution_count": 5,
   "metadata": {
    "collapsed": false
   },
   "outputs": [
    {
     "name": "stdout",
     "output_type": "stream",
     "text": [
      "Converged after 35 iterations with av. error 1.297239\n"
     ]
    }
   ],
   "source": [
    "print(gpa)"
   ]
  },
  {
   "cell_type": "markdown",
   "metadata": {},
   "source": [
    "GeneralizedProcrustesAnalysis provides a property called `.transforms`, which gives one transform per source that aligns it to the target frame. The target frame is also accessable at `.target`"
   ]
  },
  {
   "cell_type": "code",
   "execution_count": 6,
   "metadata": {
    "collapsed": false
   },
   "outputs": [
    {
     "name": "stdout",
     "output_type": "stream",
     "text": [
      "There are 3 transforms\n",
      "Each transform is a <class 'menpo.transform.homogeneous.similarity.AlignmentSimilarity'>\n",
      "The target: PointCloud: n_points: 4, n_dims: 2\n"
     ]
    }
   ],
   "source": [
    "print('There are {} transforms'.format(len(gpa.transforms)))\n",
    "print('Each transform is a {}'.format(type(gpa.transforms[0])))\n",
    "print('The target: {}'.format(gpa.target))"
   ]
  },
  {
   "cell_type": "markdown",
   "metadata": {},
   "source": [
    "The optimal transform found to align `src_1` is:"
   ]
  },
  {
   "cell_type": "code",
   "execution_count": 7,
   "metadata": {
    "collapsed": false
   },
   "outputs": [
    {
     "name": "stdout",
     "output_type": "stream",
     "text": [
      "Similarity decomposing into:  \n",
      "  CCW Rotation of 180.0 degrees about [0 0 1]\n",
      "  UniformScale by 0.776521803371\n",
      "  CCW Rotation of 145.9 degrees about [0 0 1]\n",
      "  Translation by [ 0.25833333  0.25833333]\n",
      "[[ 0.64328493 -0.43493747  0.25833333]\n",
      " [ 0.43493747  0.64328493  0.25833333]\n",
      " [ 0.          0.          1.        ]]\n"
     ]
    }
   ],
   "source": [
    "src_1_similarity = gpa.transforms[0]\n",
    "print(src_1_similarity)"
   ]
  },
  {
   "cell_type": "markdown",
   "metadata": {},
   "source": [
    "and for `src_2` we used:"
   ]
  },
  {
   "cell_type": "code",
   "execution_count": 8,
   "metadata": {
    "collapsed": false
   },
   "outputs": [
    {
     "name": "stdout",
     "output_type": "stream",
     "text": [
      "Similarity decomposing into:  \n",
      "  CCW Rotation of 180.0 degrees about [0 0 1]\n",
      "  UniformScale by 1.06979326268\n",
      "  CCW Rotation of 145.9 degrees about [0 0 1]\n",
      "  Translation by [ 0.03588139 -0.89288118]\n",
      "[[ 0.88623642 -0.59920166  0.03588139]\n",
      " [ 0.59920166  0.88623642 -0.89288118]\n",
      " [ 0.          0.          1.        ]]\n"
     ]
    }
   ],
   "source": [
    "src_2_similarity = gpa.transforms[1]\n",
    "print(src_2_similarity)"
   ]
  },
  {
   "cell_type": "markdown",
   "metadata": {},
   "source": [
    "`src_1_similarity` has a `source` which is the same as `src_1`:"
   ]
  },
  {
   "cell_type": "code",
   "execution_count": 9,
   "metadata": {
    "collapsed": false
   },
   "outputs": [
    {
     "name": "stdout",
     "output_type": "stream",
     "text": [
      "PointCloud: n_points: 4, n_dims: 2\n",
      "True\n"
     ]
    }
   ],
   "source": [
    "print(src_1_similarity.source)\n",
    "print(np.all(src_1 == src_1_similarity.source))"
   ]
  },
  {
   "cell_type": "markdown",
   "metadata": {},
   "source": [
    "The target of this object was set in the first iteration of the algorithm to the mean of all the sources:"
   ]
  },
  {
   "cell_type": "code",
   "execution_count": null,
   "metadata": {
    "collapsed": false
   },
   "outputs": [],
   "source": [
    "print(src_1_similarity.target)"
   ]
  },
  {
   "cell_type": "markdown",
   "metadata": {},
   "source": [
    "Its simple to check how the alignment did"
   ]
  },
  {
   "cell_type": "code",
   "execution_count": 10,
   "metadata": {
    "collapsed": false
   },
   "outputs": [
    {
     "data": {
      "image/png": "[encoded data removed]",
      "text/plain": [
       "<matplotlib.figure.Figure at 0x18302b70>"
      ]
     },
     "metadata": {},
     "output_type": "display_data"
    }
   ],
   "source": [
    "colours_list = ['r' ,'g', 'b']\n",
    "for i, (t, a_c) in enumerate(zip(gpa.transforms, gpa.sources)):\n",
    "    aligned_src = t.apply(a_c)\n",
    "    aligned_src.view(marker_face_colour=colours_list[i], marker_size=10);\n",
    "plt.legend(['src_1', 'src_2', 'src_3']);"
   ]
  },
  {
   "cell_type": "markdown",
   "metadata": {},
   "source": [
    "## 2. Example with faces"
   ]
  },
  {
   "cell_type": "markdown",
   "metadata": {},
   "source": [
    "In this example, we will use one of the most popular and widely used annotated facial databases, the Labeled Faces Parts in the Wild (LFPW) database. Both images and corresponding facial landmark annotations are publicly available and can be downloaded from the following link: \n",
    "\n",
    "* http://ibug.doc.ic.ac.uk/download/annotations/lfpw.zip/ \n",
    "\n",
    "In order to continue with this notebook, the user is required to simply: \n",
    " \n",
    "* Click on the previous link.\n",
    "* Fill out the form with his/her details. \n",
    "* Proceed to download the LFPW database. \n",
    "* Unzip and save the LFPW database to a location of his/her like.\n",
    "* Paste the path to the local copy of the LFPW database on the next cell.\n",
    " \n",
    "Note that the `.zip` file containing the whole annotated database is of approximately 350MB."
   ]
  },
  {
   "cell_type": "code",
   "execution_count": 11,
   "metadata": {
    "collapsed": false
   },
   "outputs": [],
   "source": [
    "path_to_lfpw = Path('K:/datasets/ptstwo/trainset')\n",
    "# path_to_lfpw = Path('/Users/pts08/data/lfpw')"
   ]
  },
  {
   "cell_type": "markdown",
   "metadata": {},
   "source": [
    "Let's load the shapes"
   ]
  },
  {
   "cell_type": "code",
   "execution_count": 12,
   "metadata": {
    "collapsed": false
   },
   "outputs": [
    {
     "name": "stdout",
     "output_type": "stream",
     "text": [
      "Importing assets: [==========] 100% (75/75) - done.                             \n"
     ]
    }
   ],
   "source": [
    "import menpo.io as mio\n",
    "shapes = [s['all'] for s in mio.import_landmark_files(path_to_lfpw  / '*.pts', \n",
    "                                                      as_generator=True, verbose=True)]"
   ]
  },
  {
   "cell_type": "markdown",
   "metadata": {},
   "source": [
    "We can visualize them using the `visualize_pointclouds` widget."
   ]
  },
  {
   "cell_type": "code",
   "execution_count": 13,
   "metadata": {
    "collapsed": false
   },
   "outputs": [
    {
     "data": {
      "image/png": "[encoded data removed]",
      "text/plain": [
       "<matplotlib.figure.Figure at 0x1913ca58>"
      ]
     },
     "metadata": {},
     "output_type": "display_data"
    }
   ],
   "source": [
    "from menpowidgets import visualize_pointclouds\n",
    "\n",
    "visualize_pointclouds(shapes)"
   ]
  },
  {
   "cell_type": "markdown",
   "metadata": {},
   "source": [
    "It is very easy to align the shapes"
   ]
  },
  {
   "cell_type": "code",
   "execution_count": 14,
   "metadata": {
    "collapsed": false
   },
   "outputs": [
    {
     "name": "stdout",
     "output_type": "stream",
     "text": [
      "Converged after 4 iterations with av. error 65.825060\n"
     ]
    }
   ],
   "source": [
    "from menpo.transform import Translation\n",
    "\n",
    "# centralize shapes\n",
    "centered_shapes = [Translation(-s.centre()).apply(s) for s in shapes]\n",
    "\n",
    "# align centralized shape using Procrustes Analysis\n",
    "gpa = GeneralizedProcrustesAnalysis(centered_shapes)\n",
    "\n",
    "print(gpa)\n",
    "\n",
    "# get the aligned shapes\n",
    "aligned_shapes = [s.aligned_source() for s in gpa.transforms]"
   ]
  },
  {
   "cell_type": "markdown",
   "metadata": {},
   "source": [
    "Let's see the result!"
   ]
  },
  {
   "cell_type": "code",
   "execution_count": 15,
   "metadata": {
    "collapsed": false
   },
   "outputs": [
    {
     "data": {
      "image/png": "[encoded data removed]",
      "text/plain": [
       "<matplotlib.figure.Figure at 0x1d25ae48>"
      ]
     },
     "metadata": {},
     "output_type": "display_data"
    }
   ],
   "source": [
    "n_shapes = 66\n",
    "\n",
    "plt.subplot(121)\n",
    "plt.title('Before GPA')\n",
    "for s in shapes[:n_shapes]:\n",
    "    s.view(axes_x_limits=1, axes_y_limits=1)\n",
    "    \n",
    "plt.subplot(122)\n",
    "plt.title('After GPA')\n",
    "for s in aligned_shapes[:n_shapes]:\n",
    "    s.view(axes_x_limits=1, axes_y_limits=1)"
   ]
  },
  {
   "cell_type": "code",
   "execution_count": null,
   "metadata": {
    "collapsed": true
   },
   "outputs": [],
   "source": []
  }
 ],
 "metadata": {
  "kernelspec": {
   "display_name": "Python 2",
   "language": "python",
   "name": "python2"
  },
  "language_info": {
   "codemirror_mode": {
    "name": "ipython",
    "version": 2
   },
   "file_extension": ".py",
   "mimetype": "text/x-python",
   "name": "python",
   "nbconvert_exporter": "python",
   "pygments_lexer": "ipython2",
   "version": "2.7.13"
  }
 },
 "nbformat": 4,
 "nbformat_minor": 0
}
